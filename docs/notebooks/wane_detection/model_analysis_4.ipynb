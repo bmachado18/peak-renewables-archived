{
 "cells": [
  {
   "cell_type": "code",
   "execution_count": 2,
   "metadata": {},
   "outputs": [
    {
     "name": "stdout",
     "output_type": "stream",
     "text": [
      "Jupyter environment detected. Enabling Open3D WebVisualizer.\n",
      "[Open3D INFO] WebRTC GUI backend enabled.\n",
      "[Open3D INFO] WebRTCWindowSystem: HTTP handshake server disabled.\n"
     ]
    }
   ],
   "source": [
    "import open3d as o3d\n",
    "import numpy as np\n",
    "import copy\n",
    "import matplotlib.pyplot as plt"
   ]
  },
  {
   "cell_type": "code",
   "execution_count": null,
   "metadata": {},
   "outputs": [
    {
     "ename": "",
     "evalue": "",
     "output_type": "error",
     "traceback": [
      "\u001b[1;31mCannot execute code, session has been disposed. Please try restarting the Kernel."
     ]
    },
    {
     "ename": "",
     "evalue": "",
     "output_type": "error",
     "traceback": [
      "\u001b[1;31mThe Kernel crashed while executing code in the the current cell or a previous cell. Please review the code in the cell(s) to identify a possible cause of the failure. Click <a href='https://aka.ms/vscodeJupyterKernelCrash'>here</a> for more info. View Jupyter <a href='command:jupyter.viewOutput'>log</a> for further details."
     ]
    }
   ],
   "source": [
    "mesh_path = './models/ARIC_board_3.stl'\n",
    "mesh = o3d.io.read_triangle_mesh(mesh_path)\n",
    "#mesh.compute_vertex_normals()\n",
    "mesh.compute_triangle_normals()\n",
    "\n",
    "print(mesh.is_watertight()) #great. goign to reconstruct surface\n",
    "\n",
    "point_cloud = mesh.sample_points_uniformly(1500)\n",
    "point_cloud.estimate_normals()\n",
    "depth = 9\n",
    "mesh,densities = o3d.geometry.TriangleMesh.create_from_point_cloud_poisson(point_cloud, depth=depth)\n",
    "mesh.compute_vertex_normals()\n",
    "o3d.visualization.draw_geometries([mesh])\n",
    "# all black but it is watertight, should be able to subtrat now\n"
   ]
  },
  {
   "cell_type": "code",
   "execution_count": null,
   "metadata": {},
   "outputs": [],
   "source": [
    "box = mesh.get_minimal_oriented_bounding_box(robust=True)\n",
    "\n",
    "box_mesh = mesh.create_box(box.extent[0], box.extent[1], box.extent[2])\n",
    "\n",
    "mesh = mesh.translate((-1)*mesh.get_center())\n",
    "\n",
    "# Step 2: rotating to align with x axis: assuming R is relative to center\n",
    "R_inv = np.linalg.inv(box.R)\n",
    "mesh.rotate(R_inv, center=(0, 0, 0))\n",
    "\n",
    "# new test for Step 3\n",
    "mesh = mesh.translate(box.extent*(0.5))\n",
    "\n",
    "mesh_coord_frame = o3d.geometry.TriangleMesh.create_coordinate_frame(size=50, origin=[0, 0, 0])\n",
    "box_mesh.compute_triangle_normals()\n",
    "box_mesh_c = copy.deepcopy(box_mesh).scale(0.90, center=box_mesh.get_center())\n",
    "# Save Images\n",
    "#o3d.io.write_triangle_mesh(\"models/aligned_defect_mesh.stl\", mesh)\n",
    "#o3d.io.write_triangle_mesh(\"models/aligned_rect_mesh.stl\", box_mesh)\n",
    "\n",
    "o3d.visualization.draw_geometries([mesh, box_mesh_c])\n",
    "\n"
   ]
  },
  {
   "cell_type": "code",
   "execution_count": 4,
   "metadata": {},
   "outputs": [
    {
     "name": "stdout",
     "output_type": "stream",
     "text": [
      "{'avg_edge_inc_faux_length': 3.8860703823131906, 'avg_edge_length': 3.8860703823131906, 'axis_momenta': array([1.15760485e+09, 3.12305984e+10, 3.20206168e+10]), 'barycenter': array([245.69650467,  47.5577018 ,  22.8488418 ]), 'bbox': <pymeshlab.pmeshlab.BoundingBox object at 0x7f9ccc7a0870>, 'center_of_mass': array([245.02961025,  48.20567154,  22.90605161]), 'inertia_tensor': array([[ 1.15780666e+09,  2.82500481e+07,  7.35198627e+07],\n",
      "       [ 2.82500481e+07,  3.12316808e+10, -2.96467996e+07],\n",
      "       [ 7.35198627e+07, -2.96467996e+07,  3.20193326e+10]]), 'mesh_volume': 1583582.7603906174, 'pca': array([[-9.99996717e-01,  9.41695023e-04,  2.38313098e-03],\n",
      "       [ 1.03032165e-03,  9.99297395e-01,  3.74653720e-02],\n",
      "       [-2.34617563e-03,  3.74677044e-02, -9.99295085e-01]]), 'shell_barycenter': array([244.20551601,  48.06927428,  23.09029472]), 'surface_area': 120109.046875, 'total_edge_inc_faux_length': 122527.7991543349, 'total_edge_length': 122527.7991543349}\n"
     ]
    }
   ],
   "source": [
    "# https://stackoverflow.com/questions/61370374/boolean-geometry-subtraction-of-3d-meshes\n",
    "\n",
    "import pymeshlab\n",
    "\n",
    "ms = pymeshlab.MeshSet()\n",
    "ms.load_new_mesh(\"models/aligned_defect_mesh.stl\")\n",
    "\n",
    "vol = ms.get_geometric_measures()\n",
    "print(vol)\n",
    "ms.load_new_mesh(\"models/aligned_rect_mesh.stl\")\n",
    "ms.generate_boolean_intersection()\n",
    "ms.save_current_mesh(\"models/pymeshlab_intersection.stl\")"
   ]
  },
  {
   "cell_type": "code",
   "execution_count": 5,
   "metadata": {},
   "outputs": [],
   "source": [
    "diff = o3d.io.read_triangle_mesh(\"models/pymeshlab_intersection.stl\")\n",
    "diff.compute_triangle_normals()\n",
    "o3d.visualization.draw_geometries([diff])\n",
    "#FAIL!!"
   ]
  },
  {
   "cell_type": "code",
   "execution_count": 11,
   "metadata": {},
   "outputs": [],
   "source": [
    "mesh = o3d.io.read_triangle_mesh(\"def_mesh_aligned.stl\")\n",
    "mesh.compute_triangle_normals()\n",
    "box = mesh.get_minimal_oriented_bounding_box()\n",
    "box.color = (1,0,0)\n",
    "\n",
    "o3d.visualization.draw_geometries([mesh])"
   ]
  },
  {
   "cell_type": "code",
   "execution_count": 10,
   "metadata": {},
   "outputs": [],
   "source": [
    "diff = o3d.io.read_triangle_mesh(\"rect_mesh_aligned.stl\")\n",
    "diff.compute_triangle_normals()\n",
    "o3d.visualization.draw_geometries([diff])"
   ]
  }
 ],
 "metadata": {
  "kernelspec": {
   "display_name": ".venv",
   "language": "python",
   "name": "python3"
  },
  "language_info": {
   "codemirror_mode": {
    "name": "ipython",
    "version": 3
   },
   "file_extension": ".py",
   "mimetype": "text/x-python",
   "name": "python",
   "nbconvert_exporter": "python",
   "pygments_lexer": "ipython3",
   "version": "3.10.12"
  },
  "orig_nbformat": 4
 },
 "nbformat": 4,
 "nbformat_minor": 2
}
