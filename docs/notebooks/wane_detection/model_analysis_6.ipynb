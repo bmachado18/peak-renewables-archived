{
 "cells": [
  {
   "cell_type": "code",
   "execution_count": 6,
   "metadata": {},
   "outputs": [
    {
     "name": "stdout",
     "output_type": "stream",
     "text": [
      "\u001b[1;33m[Open3D WARNING] Unable to load file ./models/ARIC_board_1_filled.stl with ASSIMP\u001b[0;m\n"
     ]
    },
    {
     "ename": "RuntimeError",
     "evalue": "QH6412 qhull input error (qh_initqhull_globals): expecting between 1 and 2147483631 points.  Got 0 3-d points\n\nWhile executing:  | qhull QJ\nOptions selected for Qhull 2020.2.r 2020/08/31:\n  run-id 322809829  _maxoutside  0\n",
     "output_type": "error",
     "traceback": [
      "\u001b[0;31m---------------------------------------------------------------------------\u001b[0m",
      "\u001b[0;31mRuntimeError\u001b[0m                              Traceback (most recent call last)",
      "Cell \u001b[0;32mIn[6], line 10\u001b[0m\n\u001b[1;32m      7\u001b[0m mesh \u001b[39m=\u001b[39m o3d\u001b[39m.\u001b[39mio\u001b[39m.\u001b[39mread_triangle_mesh(mesh_path)\n\u001b[1;32m      8\u001b[0m mesh\u001b[39m.\u001b[39mcompute_triangle_normals()\n\u001b[0;32m---> 10\u001b[0m box \u001b[39m=\u001b[39m mesh\u001b[39m.\u001b[39;49mget_minimal_oriented_bounding_box(robust\u001b[39m=\u001b[39;49m\u001b[39mTrue\u001b[39;49;00m)\n\u001b[1;32m     12\u001b[0m box_mesh \u001b[39m=\u001b[39m mesh\u001b[39m.\u001b[39mcreate_box(box\u001b[39m.\u001b[39mextent[\u001b[39m0\u001b[39m], box\u001b[39m.\u001b[39mextent[\u001b[39m1\u001b[39m], box\u001b[39m.\u001b[39mextent[\u001b[39m2\u001b[39m])\n\u001b[1;32m     14\u001b[0m mesh \u001b[39m=\u001b[39m mesh\u001b[39m.\u001b[39mtranslate((\u001b[39m-\u001b[39m\u001b[39m1\u001b[39m)\u001b[39m*\u001b[39mmesh\u001b[39m.\u001b[39mget_center())\n",
      "\u001b[0;31mRuntimeError\u001b[0m: QH6412 qhull input error (qh_initqhull_globals): expecting between 1 and 2147483631 points.  Got 0 3-d points\n\nWhile executing:  | qhull QJ\nOptions selected for Qhull 2020.2.r 2020/08/31:\n  run-id 322809829  _maxoutside  0\n"
     ]
    }
   ],
   "source": [
    "import open3d as o3d\n",
    "import numpy as np\n",
    "import copy\n",
    "import matplotlib.pyplot as plt\n",
    "\n",
    "mesh_path = './models/ARIC_board_1_filled.stl'\n",
    "mesh = o3d.io.read_triangle_mesh(mesh_path)\n",
    "mesh.compute_triangle_normals()\n",
    "\n",
    "box = mesh.get_minimal_oriented_bounding_box(robust=True)\n",
    "\n",
    "box_mesh = mesh.create_box(box.extent[0], box.extent[1], box.extent[2])\n",
    "\n",
    "mesh = mesh.translate((-1)*mesh.get_center())\n",
    "\n",
    "# Step 2: rotating to align with x axis: assuming R is relative to center\n",
    "R_inv = np.linalg.inv(box.R)\n",
    "mesh.rotate(R_inv, center=(0, 0, 0))\n",
    "\n",
    "# new test for Step 3\n",
    "mesh = mesh.translate(box.extent*(0.5))\n",
    "\n",
    "mesh_coord_frame = o3d.geometry.TriangleMesh.create_coordinate_frame(size=50, origin=[0, 0, 0])\n",
    "box_mesh.compute_triangle_normals()\n",
    "box_mesh_c = copy.deepcopy(box_mesh).scale(1, center=box_mesh.get_center())\n",
    "# Save Images\n",
    "#o3d.io.write_triangle_mesh(\"models/aligned_defect_mesh.stl\", mesh)\n",
    "#o3d.io.write_triangle_mesh(\"models/aligned_rect_mesh.stl\", box_mesh)\n",
    "\n",
    "o3d.visualization.draw_geometries([mesh, box_mesh_c])\n",
    "\n"
   ]
  }
 ],
 "metadata": {
  "kernelspec": {
   "display_name": ".venv",
   "language": "python",
   "name": "python3"
  },
  "language_info": {
   "codemirror_mode": {
    "name": "ipython",
    "version": 3
   },
   "file_extension": ".py",
   "mimetype": "text/x-python",
   "name": "python",
   "nbconvert_exporter": "python",
   "pygments_lexer": "ipython3",
   "version": "3.10.12"
  },
  "orig_nbformat": 4
 },
 "nbformat": 4,
 "nbformat_minor": 2
}
