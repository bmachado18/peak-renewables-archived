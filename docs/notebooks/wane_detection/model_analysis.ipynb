{
 "cells": [
  {
   "cell_type": "code",
   "execution_count": 317,
   "metadata": {},
   "outputs": [],
   "source": [
    "import open3d as o3d\n",
    "import numpy as np\n",
    "import copy\n",
    "import matplotlib.pyplot as plt"
   ]
  },
  {
   "cell_type": "code",
   "execution_count": 287,
   "metadata": {},
   "outputs": [],
   "source": [
    "mesh_path = './models/Aric Board 2.stl'\n",
    "\n",
    "mesh = o3d.io.read_triangle_mesh(mesh_path)"
   ]
  },
  {
   "cell_type": "code",
   "execution_count": 288,
   "metadata": {},
   "outputs": [],
   "source": [
    "# Visualizing the mesh.\n",
    "draw_geoms_list = [mesh]\n",
    "o3d.visualization.draw_geometries(draw_geoms_list)"
   ]
  },
  {
   "cell_type": "code",
   "execution_count": 289,
   "metadata": {},
   "outputs": [
    {
     "name": "stdout",
     "output_type": "stream",
     "text": [
      "TriangleMesh with 2048425 points and 683718 triangles.\n"
     ]
    }
   ],
   "source": [
    "print(mesh)"
   ]
  },
  {
   "cell_type": "code",
   "execution_count": 290,
   "metadata": {},
   "outputs": [],
   "source": [
    "# Computing the normals for the mesh.\n",
    "mesh.compute_vertex_normals()\n",
    "\n",
    "# Visualizing the mesh.\n",
    "draw_geoms_list = [mesh]\n",
    "o3d.visualization.draw_geometries(draw_geoms_list)"
   ]
  },
  {
   "cell_type": "code",
   "execution_count": 291,
   "metadata": {},
   "outputs": [],
   "source": [
    "# Creating a mesh of the XYZ axes Cartesian coordinates frame.\n",
    "# This mesh will show the directions in which the X, Y & Z-axes point,\n",
    "# and can be overlaid on the 3D mesh to visualize its orientation in\n",
    "# the Euclidean space.\n",
    "# X-axis : Red arrow\n",
    "# Y-axis : Green arrow\n",
    "# Z-axis : Blue arrow\n",
    "mesh_coord_frame = o3d.geometry.TriangleMesh.create_coordinate_frame(size=30, origin=[0, 0, 0])\n",
    "\n",
    "# Visualizing the mesh with the coordinate frame to understand the orientation.\n",
    "draw_geoms_list = [mesh_coord_frame, mesh]\n",
    "o3d.visualization.draw_geometries(draw_geoms_list)"
   ]
  },
  {
   "cell_type": "code",
   "execution_count": 292,
   "metadata": {},
   "outputs": [],
   "source": [
    "# Creating a mesh of the XYZ axes Cartesian coordinates frame.\n",
    "# This mesh will show the directions in which the X, Y & Z-axes point,\n",
    "# and can be overlaid on the 3D mesh to visualize its orientation in\n",
    "# the Euclidean space.\n",
    "# X-axis : Red arrow\n",
    "# Y-axis : Green arrow\n",
    "# Z-axis : Blue arrow\n",
    "mesh_coord_frame = o3d.geometry.TriangleMesh.create_coordinate_frame(size=30, origin=[-300, 200, 200])\n",
    "\n",
    "# Visualizing the mesh with the coordinate frame to understand the orientation.\n",
    "draw_geoms_list = [mesh_coord_frame, mesh]\n",
    "o3d.visualization.draw_geometries(draw_geoms_list)"
   ]
  },
  {
   "cell_type": "code",
   "execution_count": 293,
   "metadata": {},
   "outputs": [],
   "source": [
    "box = mesh.get_minimal_oriented_bounding_box()\n",
    "box.color = (1,0,0)\n",
    "\n",
    "o3d.visualization.draw_geometries([mesh, box])"
   ]
  },
  {
   "cell_type": "code",
   "execution_count": 294,
   "metadata": {},
   "outputs": [
    {
     "name": "stdout",
     "output_type": "stream",
     "text": [
      "OrientedBoundingBox: center: (-321.818, 175.307, 184.743), extent: 487.649, 90.2207, 41.9591)\n",
      "[487.64862295  90.2206845   41.95912127]\n"
     ]
    }
   ],
   "source": [
    "print(box)\n",
    "print(box.extent)"
   ]
  },
  {
   "cell_type": "code",
   "execution_count": 295,
   "metadata": {},
   "outputs": [
    {
     "name": "stdout",
     "output_type": "stream",
     "text": [
      "[-320.66492028  183.06555677  175.37032867]\n"
     ]
    }
   ],
   "source": [
    "print(mesh.get_center())"
   ]
  },
  {
   "cell_type": "code",
   "execution_count": 296,
   "metadata": {},
   "outputs": [],
   "source": [
    "new_box = o3d.geometry.TriangleMesh.create_box(box.extent[0], box.extent[1], box.extent[2])\n",
    "\n",
    "o3d.visualization.draw_geometries([new_box, mesh])"
   ]
  },
  {
   "cell_type": "code",
   "execution_count": 297,
   "metadata": {},
   "outputs": [
    {
     "name": "stdout",
     "output_type": "stream",
     "text": [
      "[8.98267951e-10 5.50072564e-10 4.32327229e-10]\n"
     ]
    }
   ],
   "source": [
    "mesh_path = './models/Aric Board 2.stl'\n",
    "\n",
    "mesh = o3d.io.read_triangle_mesh(mesh_path)\n",
    "mesh.compute_vertex_normals()\n",
    "\n",
    "old_center = mesh.get_center()\n",
    "\n",
    "mesh = mesh.translate(old_center*(-1))\n",
    "\n",
    "print(mesh.get_center())"
   ]
  },
  {
   "cell_type": "code",
   "execution_count": 298,
   "metadata": {},
   "outputs": [],
   "source": [
    "box = mesh.get_minimal_oriented_bounding_box()\n",
    "rect_mesh = o3d.geometry.TriangleMesh.create_box(box.extent[0], box.extent[1], box.extent[2])\n",
    "mesh_coord_frame = o3d.geometry.TriangleMesh.create_coordinate_frame(size=30, origin=[-1, 0, 0])\n",
    "box_mesh_coord_frame = o3d.geometry.TriangleMesh.create_coordinate_frame(size=30, origin=[0, 0, 0])\n",
    "o3d.visualization.draw_geometries([new_box, mesh, mesh_coord_frame, box_mesh_coord_frame])\n",
    "\n",
    "# mesh of rect_mesh is positioned so that bottom right corner is (0,0,0). while original mesh is not. need to find a way to position original mesh into the position!!"
   ]
  },
  {
   "cell_type": "code",
   "execution_count": 299,
   "metadata": {},
   "outputs": [
    {
     "name": "stdout",
     "output_type": "stream",
     "text": [
      "TriangleMesh with 2048425 points and 683718 triangles.\n",
      "OrientedBoundingBox: center: (-1.15279, -7.75875, 9.37264), extent: 487.649, 90.2207, 41.9591)\n"
     ]
    }
   ],
   "source": [
    "print(mesh)\n",
    "box = mesh.get_minimal_oriented_bounding_box()\n",
    "print(box)"
   ]
  },
  {
   "cell_type": "markdown",
   "metadata": {},
   "source": [
    "ASSUMPTION: model is calibrated so that axis fits perfectly in bottom right hand corner - I am going to manually translate+rotate mesh until fits as such. This is because when using the create_box function, the mesh is always positioned so the bottom right corner is (0,0,0)"
   ]
  },
  {
   "cell_type": "code",
   "execution_count": 300,
   "metadata": {},
   "outputs": [],
   "source": [
    "o3d.visualization.draw_geometries([mesh, mesh_coord_frame])\n",
    "mesh_r_old = copy.deepcopy(mesh)"
   ]
  },
  {
   "cell_type": "code",
   "execution_count": 301,
   "metadata": {},
   "outputs": [],
   "source": [
    "#Rotation check!!!\n",
    "# Not working\n",
    "mesh_r = copy.deepcopy(mesh)\n",
    "R = mesh.get_rotation_matrix_from_xyz((0, 2*np.pi/3 , 0))\n",
    "mesh_r.rotate(R, center=(0,0,0))\n",
    "mesh_r.paint_uniform_color([1, 0.706, 0])\n",
    "box_mesh_coord_frame = o3d.geometry.TriangleMesh.create_coordinate_frame(size=100, origin=[0, 0, 0])\n",
    "o3d.visualization.draw_geometries([mesh_r, box_mesh_coord_frame, mesh, rect_mesh])\n",
    "\n"
   ]
  },
  {
   "cell_type": "markdown",
   "metadata": {},
   "source": [
    "new approach: \n",
    "\n",
    "find the center of mass of the vertices and then translate the whole mesh by the center of mass (edited) \n",
    "They might have a function to do that for you but maybe not\n",
    "once it's translated, apply rotation and then translate it back to where it was if you want it  there"
   ]
  },
  {
   "cell_type": "code",
   "execution_count": 302,
   "metadata": {},
   "outputs": [],
   "source": [
    "mesh_path = './models/Aric Board 2.stl'\n",
    "mesh = o3d.io.read_triangle_mesh(mesh_path)\n",
    "mesh.compute_vertex_normals()\n",
    "old_center = mesh.get_center()\n",
    "mesh = mesh.translate(old_center*(-1))\n",
    "\n",
    "\n",
    "old_center = rect_mesh.get_center()\n",
    "rect_mesh = rect_mesh.translate(old_center*(-1))\n",
    "coord_frame = o3d.geometry.TriangleMesh.create_coordinate_frame(size=100, origin=[0, 0, 0])\n",
    "\n",
    "o3d.visualization.draw_geometries([coord_frame, mesh, rect_mesh])"
   ]
  },
  {
   "cell_type": "code",
   "execution_count": 303,
   "metadata": {},
   "outputs": [],
   "source": [
    "mesh_copy = copy.deepcopy(mesh)\n",
    "mesh_copy.rotate(mesh_copy.get_rotation_matrix_from_xyz((np.pi / 2, 0, np.pi / 4)), center=(0, 0, 0))\n",
    "mesh_copy.paint_uniform_color([1, 0.706, 0])\n",
    "\n",
    "o3d.visualization.draw_geometries([coord_frame, mesh, rect_mesh, mesh_copy])"
   ]
  },
  {
   "cell_type": "code",
   "execution_count": 304,
   "metadata": {},
   "outputs": [
    {
     "data": {
      "text/plain": [
       "True"
      ]
     },
     "execution_count": 304,
     "metadata": {},
     "output_type": "execute_result"
    }
   ],
   "source": [
    "# source: https://stackoverflow.com/questions/70160183/how-can-i-align-register-two-meshes-in-open3d-python\n",
    "#Does not WOrK!!!\n",
    "\n",
    "#Since it is alot easier to adjust via blender, will save the each centered object, rotate manually, and reimport back to this notebook\n",
    "\n",
    "o3d.io.write_triangle_mesh(\"defective_mesh.stl\", mesh)\n",
    "rect_mesh.compute_vertex_normals()\n",
    "\n",
    "o3d.io.write_triangle_mesh(\"rect_mesh.stl\", rect_mesh)\n"
   ]
  },
  {
   "cell_type": "markdown",
   "metadata": {},
   "source": [
    "Adjustments made:\n",
    "\n",
    "Location X: -11.46 m\n",
    "Y: 2.85 m\n",
    "Z: 1.43m\n",
    "\n",
    "Rotation X: 60.4 deg\n",
    "Y: 5.1 deg\n",
    "Z: 84.6 deg\n",
    "\n",
    "Scale X: 1\n",
    "Y: 1\n",
    "Z: 1"
   ]
  },
  {
   "cell_type": "code",
   "execution_count": 308,
   "metadata": {},
   "outputs": [],
   "source": [
    "rect_mesh = o3d.io.read_triangle_mesh(\"rect_mesh_aligned.stl\")\n",
    "rect_mesh.compute_vertex_normals()\n",
    "coord_frame = o3d.geometry.TriangleMesh.create_coordinate_frame(size=100, origin=[0, 0, 0])\n",
    "\n",
    "o3d.visualization.draw_geometries([rect_mesh, coord_frame])\n",
    "\n",
    "def_mesh = o3d.io.read_triangle_mesh(\"def_mesh_aligned.stl\")\n",
    "def_mesh.compute_vertex_normals()\n",
    "coord_frame = o3d.geometry.TriangleMesh.create_coordinate_frame(size=100, origin=[0, 0, 0])\n",
    "\n",
    "o3d.visualization.draw_geometries([def_mesh, coord_frame])"
   ]
  },
  {
   "cell_type": "code",
   "execution_count": 309,
   "metadata": {},
   "outputs": [],
   "source": [
    "rect_cloud = rect_mesh.sample_points_uniformly(1000)\n",
    "def_cloud = def_mesh.sample_points_uniformly(1000)"
   ]
  },
  {
   "cell_type": "code",
   "execution_count": 310,
   "metadata": {},
   "outputs": [],
   "source": [
    "#https://github.com/isl-org/Open3D/pull/1884/commits/d739cc20e4f54798aacca5f32b36f5a3066531a6\n",
    "dists = rect_cloud.compute_point_cloud_distance(def_cloud)\n",
    "dists = np.asarray(dists)\n",
    "ind = np.where(dists > 0.01)[0]\n",
    "res = rect_cloud.select_by_index(ind)\n",
    "o3d.visualization.draw_geometries([res])"
   ]
  },
  {
   "cell_type": "markdown",
   "metadata": {},
   "source": [
    "Not just the wane - try scaling??"
   ]
  },
  {
   "cell_type": "code",
   "execution_count": 313,
   "metadata": {},
   "outputs": [],
   "source": [
    "rect_mesh_c = copy.deepcopy(rect_mesh)\n",
    "rect_mesh_c.scale(0.98, center=rect_mesh_c.get_center())\n",
    "\n",
    "o3d.visualization.draw_geometries([rect_mesh_c, def_mesh])"
   ]
  },
  {
   "cell_type": "code",
   "execution_count": 332,
   "metadata": {},
   "outputs": [],
   "source": [
    "rect_cloud = rect_mesh_c.sample_points_uniformly(1000)\n",
    "def_cloud = def_mesh.sample_points_uniformly(1000)\n",
    "\n",
    "dists = def_cloud.compute_point_cloud_distance(rect_cloud)\n",
    "dists = np.asarray(dists)\n",
    "ind = np.where(dists > 0.01)[0]\n",
    "res = rect_cloud.select_by_index(ind)\n",
    "o3d.visualization.draw_geometries([res])"
   ]
  },
  {
   "cell_type": "code",
   "execution_count": 333,
   "metadata": {},
   "outputs": [
    {
     "name": "stdout",
     "output_type": "stream",
     "text": [
      "\u001b[1;33m[Open3D WARNING] [CreateFromPointCloudAlphaShape] invalid tetra in TetraMesh\u001b[0;m\n",
      "\u001b[1;33m[Open3D WARNING] [CreateFromPointCloudAlphaShape] invalid tetra in TetraMesh\u001b[0;m\n",
      "\u001b[1;33m[Open3D WARNING] [CreateFromPointCloudAlphaShape] invalid tetra in TetraMesh\u001b[0;m\n",
      "\u001b[1;33m[Open3D WARNING] [CreateFromPointCloudAlphaShape] invalid tetra in TetraMesh\u001b[0;m\n",
      "\u001b[1;33m[Open3D WARNING] [CreateFromPointCloudAlphaShape] invalid tetra in TetraMesh\u001b[0;m\n",
      "\u001b[1;33m[Open3D WARNING] [CreateFromPointCloudAlphaShape] invalid tetra in TetraMesh\u001b[0;m\n",
      "\u001b[1;33m[Open3D WARNING] [CreateFromPointCloudAlphaShape] invalid tetra in TetraMesh\u001b[0;m\n",
      "\u001b[1;33m[Open3D WARNING] [CreateFromPointCloudAlphaShape] invalid tetra in TetraMesh\u001b[0;m\n",
      "\u001b[1;33m[Open3D WARNING] [CreateFromPointCloudAlphaShape] invalid tetra in TetraMesh\u001b[0;m\n",
      "\u001b[1;33m[Open3D WARNING] [CreateFromPointCloudAlphaShape] invalid tetra in TetraMesh\u001b[0;m\n",
      "\u001b[1;33m[Open3D WARNING] [CreateFromPointCloudAlphaShape] invalid tetra in TetraMesh\u001b[0;m\n",
      "\u001b[1;33m[Open3D WARNING] [CreateFromPointCloudAlphaShape] invalid tetra in TetraMesh\u001b[0;m\n",
      "\u001b[1;33m[Open3D WARNING] [CreateFromPointCloudAlphaShape] invalid tetra in TetraMesh\u001b[0;m\n",
      "\u001b[1;33m[Open3D WARNING] [CreateFromPointCloudAlphaShape] invalid tetra in TetraMesh\u001b[0;m\n",
      "\u001b[1;33m[Open3D WARNING] Creating from empty legacy TriangleMesh.\u001b[0;m\n"
     ]
    },
    {
     "ename": "IndexError",
     "evalue": "_Map_base::at",
     "output_type": "error",
     "traceback": [
      "\u001b[0;31m---------------------------------------------------------------------------\u001b[0m",
      "\u001b[0;31mIndexError\u001b[0m                                Traceback (most recent call last)",
      "Cell \u001b[0;32mIn[333], line 2\u001b[0m\n\u001b[1;32m      1\u001b[0m alpha \u001b[39m=\u001b[39m \u001b[39m0.3\u001b[39m\n\u001b[0;32m----> 2\u001b[0m mesh \u001b[39m=\u001b[39m o3d\u001b[39m.\u001b[39;49mgeometry\u001b[39m.\u001b[39;49mTriangleMesh\u001b[39m.\u001b[39;49mcreate_from_point_cloud_alpha_shape(res, alpha)\n\u001b[1;32m      3\u001b[0m mesh\u001b[39m.\u001b[39mcompute_vertex_normals()\n\u001b[1;32m      4\u001b[0m o3d\u001b[39m.\u001b[39mvisualization\u001b[39m.\u001b[39mdraw_geometries([mesh])\n",
      "\u001b[0;31mIndexError\u001b[0m: _Map_base::at"
     ]
    }
   ],
   "source": [
    "radii = [0.005, 0.01, 0.02, 0.04]\n",
    "rec_mesh = o3d.geometry.TriangleMesh.create_from_point_cloud_ball_pivoting(\n",
    "    res, o3d.utility.DoubleVector(radii))\n",
    "o3d.visualization.draw_geometries([rec_mesh])"
   ]
  },
  {
   "cell_type": "code",
   "execution_count": 323,
   "metadata": {},
   "outputs": [
    {
     "ename": "AttributeError",
     "evalue": "'open3d.cpu.pybind.geometry.PointCloud' object has no attribute 'crop_point_cloud'",
     "output_type": "error",
     "traceback": [
      "\u001b[0;31m---------------------------------------------------------------------------\u001b[0m",
      "\u001b[0;31mAttributeError\u001b[0m                            Traceback (most recent call last)",
      "Cell \u001b[0;32mIn[323], line 4\u001b[0m\n\u001b[1;32m      1\u001b[0m rect_cloud \u001b[39m=\u001b[39m rect_mesh_c\u001b[39m.\u001b[39msample_points_uniformly(\u001b[39m1000\u001b[39m)\n\u001b[1;32m      2\u001b[0m def_cloud \u001b[39m=\u001b[39m def_mesh\u001b[39m.\u001b[39msample_points_uniformly(\u001b[39m1000\u001b[39m)\n\u001b[0;32m----> 4\u001b[0m res \u001b[39m=\u001b[39m rect_cloud\u001b[39m.\u001b[39;49mcrop_point_cloud(def_cloud)\n\u001b[1;32m      5\u001b[0m o3d\u001b[39m.\u001b[39mvisualization\u001b[39m.\u001b[39mdraw_geometries([res])\n",
      "\u001b[0;31mAttributeError\u001b[0m: 'open3d.cpu.pybind.geometry.PointCloud' object has no attribute 'crop_point_cloud'"
     ]
    }
   ],
   "source": [
    "rect_cloud = rect_mesh_c.sample_points_uniformly(1000)\n",
    "def_cloud = def_mesh.sample_points_uniformly(1000)\n",
    "\n",
    "res = rect_cloud.crop_point_cloud(def_cloud)\n",
    "o3d.visualization.draw_geometries([res])"
   ]
  }
 ],
 "metadata": {
  "kernelspec": {
   "display_name": ".venv",
   "language": "python",
   "name": "python3"
  },
  "language_info": {
   "codemirror_mode": {
    "name": "ipython",
    "version": 3
   },
   "file_extension": ".py",
   "mimetype": "text/x-python",
   "name": "python",
   "nbconvert_exporter": "python",
   "pygments_lexer": "ipython3",
   "version": "3.10.12"
  },
  "orig_nbformat": 4
 },
 "nbformat": 4,
 "nbformat_minor": 2
}
