{
 "cells": [
  {
   "cell_type": "code",
   "execution_count": 43,
   "metadata": {},
   "outputs": [],
   "source": [
    "import open3d as o3d\n",
    "import numpy as np\n",
    "import copy\n",
    "import matplotlib.pyplot as plt"
   ]
  },
  {
   "cell_type": "code",
   "execution_count": 44,
   "metadata": {},
   "outputs": [],
   "source": [
    "mesh_path = './models/Aric Board 2.stl'\n",
    "\n",
    "mesh = o3d.io.read_triangle_mesh(mesh_path)"
   ]
  },
  {
   "cell_type": "code",
   "execution_count": 45,
   "metadata": {},
   "outputs": [],
   "source": [
    "# Visualizing the mesh.\n",
    "draw_geoms_list = [mesh]\n",
    "o3d.visualization.draw_geometries(draw_geoms_list)"
   ]
  },
  {
   "cell_type": "code",
   "execution_count": 46,
   "metadata": {},
   "outputs": [
    {
     "name": "stdout",
     "output_type": "stream",
     "text": [
      "TriangleMesh with 2048425 points and 683718 triangles.\n"
     ]
    }
   ],
   "source": [
    "print(mesh)"
   ]
  },
  {
   "cell_type": "code",
   "execution_count": 47,
   "metadata": {},
   "outputs": [],
   "source": [
    "# Computing the normals for the mesh.\n",
    "mesh.compute_vertex_normals()\n",
    "\n",
    "# Visualizing the mesh.\n",
    "draw_geoms_list = [mesh]\n",
    "o3d.visualization.draw_geometries(draw_geoms_list)"
   ]
  },
  {
   "cell_type": "code",
   "execution_count": 48,
   "metadata": {},
   "outputs": [],
   "source": [
    "# Creating a mesh of the XYZ axes Cartesian coordinates frame.\n",
    "# This mesh will show the directions in which the X, Y & Z-axes point,\n",
    "# and can be overlaid on the 3D mesh to visualize its orientation in\n",
    "# the Euclidean space.\n",
    "# X-axis : Red arrow\n",
    "# Y-axis : Green arrow\n",
    "# Z-axis : Blue arrow\n",
    "mesh_coord_frame = o3d.geometry.TriangleMesh.create_coordinate_frame(size=30, origin=[0, 0, 0])\n",
    "\n",
    "# Visualizing the mesh with the coordinate frame to understand the orientation.\n",
    "draw_geoms_list = [mesh_coord_frame, mesh]\n",
    "o3d.visualization.draw_geometries(draw_geoms_list)"
   ]
  },
  {
   "cell_type": "code",
   "execution_count": 49,
   "metadata": {},
   "outputs": [],
   "source": [
    "# Creating a mesh of the XYZ axes Cartesian coordinates frame.\n",
    "# This mesh will show the directions in which the X, Y & Z-axes point,\n",
    "# and can be overlaid on the 3D mesh to visualize its orientation in\n",
    "# the Euclidean space.\n",
    "# X-axis : Red arrow\n",
    "# Y-axis : Green arrow\n",
    "# Z-axis : Blue arrow\n",
    "mesh_coord_frame = o3d.geometry.TriangleMesh.create_coordinate_frame(size=30, origin=[-300, 200, 200])\n",
    "\n",
    "# Visualizing the mesh with the coordinate frame to understand the orientation.\n",
    "draw_geoms_list = [mesh_coord_frame, mesh]\n",
    "o3d.visualization.draw_geometries(draw_geoms_list)"
   ]
  },
  {
   "cell_type": "code",
   "execution_count": 76,
   "metadata": {},
   "outputs": [],
   "source": [
    "mesh_path = './models/Aric Board 2.stl'\n",
    "mesh = o3d.io.read_triangle_mesh(mesh_path)\n",
    "mesh.compute_vertex_normals()\n",
    "\n",
    "\n",
    "box = mesh.get_minimal_oriented_bounding_box(robust=True)\n",
    "box.color = (1,0,0)\n",
    "\n",
    "mesh_coord_frame = o3d.geometry.TriangleMesh.create_coordinate_frame(size=30)\n",
    "cone_height = 10\n",
    "cylinder_height = (box.center**2).sum()**0.5 - cone_height\n",
    "cylinder_height1 = (box.extent**2).sum()**0.5 - cone_height\n",
    "\n",
    "arrow_center = mesh.create_arrow(cone_height=cone_height, cylinder_height=cylinder_height)\n",
    "#first angle: arctan (y/x)\n",
    "#second angle: arctan (y/M)\n",
    "rotation = box.rotate\n",
    "\n",
    "angle1 = \n",
    "#roatation represents how to draw the box\n",
    "R = mesh.get_rotation_matrix_from_xyz((0, 2*np.pi/3 , 0))\n",
    "arrow_center.rotate(R, center=(0,0,0))\n",
    "\n",
    "arrow_extent = mesh.create_arrow(cone_height=cone_height, cylinder_height=cylinder_height1)\n",
    "\n",
    "R1 = mesh.get_rotation_matrix_from_xyz((0, 2*np.pi/3 , 0))\n",
    "arrow_extent.rotate(R1, center=(0,0,0))\n",
    "\n",
    "o3d.visualization.draw_geometries([mesh, box, mesh_coord_frame, arrow_center, arrow_extent])"
   ]
  },
  {
   "cell_type": "code",
   "execution_count": 51,
   "metadata": {},
   "outputs": [
    {
     "name": "stdout",
     "output_type": "stream",
     "text": [
      "OrientedBoundingBox: center: (-321.822, 175.297, 184.745), extent: 487.667, 90.3128, 42.2801)\n",
      "[487.66676551  90.31280196  42.28007382]\n"
     ]
    }
   ],
   "source": [
    "print(box)\n",
    "print(box.extent)\n",
    "\n",
    "#translate bounding box by extent. if this is center then this is valid."
   ]
  },
  {
   "cell_type": "code",
   "execution_count": 69,
   "metadata": {},
   "outputs": [],
   "source": [
    "rotated = box.rotate((-1)*box.R, box.center)\n",
    "o3d.visualization.draw_geometries([rotated, mesh_coord_frame, mesh])"
   ]
  },
  {
   "cell_type": "code",
   "execution_count": 52,
   "metadata": {},
   "outputs": [
    {
     "name": "stdout",
     "output_type": "stream",
     "text": [
      "[-320.66492028  183.06555677  175.37032867]\n"
     ]
    }
   ],
   "source": [
    "print(mesh.get_center())"
   ]
  },
  {
   "cell_type": "code",
   "execution_count": 53,
   "metadata": {},
   "outputs": [],
   "source": [
    "new_box = o3d.geometry.TriangleMesh.create_box(box.extent[0], box.extent[1], box.extent[2])\n",
    "\n",
    "o3d.visualization.draw_geometries([new_box, mesh])"
   ]
  },
  {
   "cell_type": "code",
   "execution_count": 56,
   "metadata": {},
   "outputs": [
    {
     "name": "stdout",
     "output_type": "stream",
     "text": [
      "[-808.33168575   92.75275481  133.09025484]\n"
     ]
    }
   ],
   "source": [
    "mesh_path = './models/Aric Board 2.stl'\n",
    "\n",
    "mesh = o3d.io.read_triangle_mesh(mesh_path)\n",
    "mesh.compute_vertex_normals()\n",
    "\n",
    "box = mesh.get_minimal_oriented_bounding_box(robust=True)\n",
    "\n",
    "extent = box.extent\n",
    "\n",
    "old_center = mesh.get_center()\n",
    "\n",
    "mesh1 = mesh.translate((-1)*old_center)\n",
    "mesh2 = mesh.translate((1)*old_center)\n",
    "\n",
    "new_mesh = mesh.translate((-1)*extent)\n",
    "\n",
    "print(mesh.get_center())\n",
    "o3d.visualization.draw_geometries([mesh,mesh1,mesh2, mesh_coord_frame])\n"
   ]
  },
  {
   "cell_type": "code",
   "execution_count": 20,
   "metadata": {},
   "outputs": [],
   "source": [
    "box = mesh.get_minimal_oriented_bounding_box(robust=True)\n",
    "rect_mesh = o3d.geometry.TriangleMesh.create_box(box.extent[0], box.extent[1], box.extent[2])\n",
    "mesh_coord_frame = o3d.geometry.TriangleMesh.create_coordinate_frame(size=30, origin=[-1, 0, 0])\n",
    "box_mesh_coord_frame = o3d.geometry.TriangleMesh.create_coordinate_frame(size=30, origin=[0, 0, 0])\n",
    "o3d.visualization.draw_geometries([box, mesh, mesh_coord_frame, box_mesh_coord_frame])\n",
    "\n",
    "# mesh of rect_mesh is positioned so that bottom right corner is (0,0,0). while original mesh is not. need to find a way to position original mesh into the position!!"
   ]
  },
  {
   "cell_type": "markdown",
   "metadata": {},
   "source": [
    "box = mesh.get_minimal_oriented_bounding_box(robust=True)"
   ]
  },
  {
   "cell_type": "code",
   "execution_count": 15,
   "metadata": {},
   "outputs": [
    {
     "name": "stdout",
     "output_type": "stream",
     "text": [
      "TriangleMesh with 2048425 points and 683718 triangles.\n",
      "OrientedBoundingBox: center: (-1.15677, -7.76896, 9.37472), extent: 487.667, 90.3128, 42.2801)\n"
     ]
    }
   ],
   "source": [
    "print(mesh)\n",
    "box = mesh.get_minimal_oriented_bounding_box(robust=True)\n",
    "print(box)"
   ]
  },
  {
   "cell_type": "code",
   "execution_count": 18,
   "metadata": {},
   "outputs": [
    {
     "data": {
      "text/plain": [
       "array([[ 0.17317819,  0.37840125,  0.90929743],\n",
       "       [-0.72248053, -0.57864876,  0.37840125],\n",
       "       [ 0.66935133, -0.72248053,  0.17317819]])"
      ]
     },
     "execution_count": 18,
     "metadata": {},
     "output_type": "execute_result"
    }
   ],
   "source": [
    "box.get_rotation_matrix_from_xyz((2,2,2))"
   ]
  },
  {
   "cell_type": "markdown",
   "metadata": {},
   "source": [
    "ASSUMPTION: model is calibrated so that axis fits perfectly in bottom right hand corner - I am going to manually translate+rotate mesh until fits as such. This is because when using the create_box function, the mesh is always positioned so the bottom right corner is (0,0,0)"
   ]
  },
  {
   "cell_type": "code",
   "execution_count": 16,
   "metadata": {},
   "outputs": [],
   "source": [
    "o3d.visualization.draw_geometries([mesh, mesh_coord_frame])\n",
    "mesh_r_old = copy.deepcopy(mesh)"
   ]
  },
  {
   "cell_type": "code",
   "execution_count": 17,
   "metadata": {},
   "outputs": [],
   "source": [
    "#Rotation check!!!\n",
    "# Not working\n",
    "mesh_r = copy.deepcopy(mesh)\n",
    "R = mesh.get_rotation_matrix_from_xyz((0, 2*np.pi/3 , 0))\n",
    "mesh_r.rotate(R, center=(0,0,0))\n",
    "mesh_r.paint_uniform_color([1, 0.706, 0])\n",
    "box_mesh_coord_frame = o3d.geometry.TriangleMesh.create_coordinate_frame(size=100, origin=[0, 0, 0])\n",
    "o3d.visualization.draw_geometries([mesh_r, box_mesh_coord_frame, mesh, rect_mesh])\n",
    "\n"
   ]
  },
  {
   "cell_type": "markdown",
   "metadata": {},
   "source": [
    "new approach: \n",
    "\n",
    "find the center of mass of the vertices and then translate the whole mesh by the center of mass (edited) \n",
    "They might have a function to do that for you but maybe not\n",
    "once it's translated, apply rotation and then translate it back to where it was if you want it  there"
   ]
  },
  {
   "cell_type": "code",
   "execution_count": 18,
   "metadata": {},
   "outputs": [],
   "source": [
    "mesh_path = './models/Aric Board 2.stl'\n",
    "mesh = o3d.io.read_triangle_mesh(mesh_path)\n",
    "mesh.compute_vertex_normals()\n",
    "old_center = mesh.get_center()\n",
    "mesh = mesh.translate(old_center*(-1))\n",
    "\n",
    "\n",
    "old_center = rect_mesh.get_center()\n",
    "rect_mesh = rect_mesh.translate(old_center*(-1))\n",
    "coord_frame = o3d.geometry.TriangleMesh.create_coordinate_frame(size=100, origin=[0, 0, 0])\n",
    "\n",
    "o3d.visualization.draw_geometries([coord_frame, mesh, rect_mesh])"
   ]
  },
  {
   "cell_type": "code",
   "execution_count": 19,
   "metadata": {},
   "outputs": [],
   "source": [
    "mesh_copy = copy.deepcopy(mesh)\n",
    "mesh_copy.rotate(mesh_copy.get_rotation_matrix_from_xyz((np.pi / 2, 0, np.pi / 4)), center=(0, 0, 0))\n",
    "mesh_copy.paint_uniform_color([1, 0.706, 0])\n",
    "\n",
    "o3d.visualization.draw_geometries([coord_frame, mesh, rect_mesh, mesh_copy])"
   ]
  },
  {
   "cell_type": "code",
   "execution_count": 20,
   "metadata": {},
   "outputs": [
    {
     "data": {
      "text/plain": [
       "True"
      ]
     },
     "execution_count": 20,
     "metadata": {},
     "output_type": "execute_result"
    }
   ],
   "source": [
    "# source: https://stackoverflow.com/questions/70160183/how-can-i-align-register-two-meshes-in-open3d-python\n",
    "#Does not WOrK!!!\n",
    "\n",
    "#Since it is alot easier to adjust via blender, will save the each centered object, rotate manually, and reimport back to this notebook\n",
    "\n",
    "o3d.io.write_triangle_mesh(\"defective_mesh.stl\", mesh)\n",
    "rect_mesh.compute_vertex_normals()\n",
    "\n",
    "o3d.io.write_triangle_mesh(\"rect_mesh.stl\", rect_mesh)\n"
   ]
  },
  {
   "cell_type": "markdown",
   "metadata": {},
   "source": [
    "Adjustments made:\n",
    "\n",
    "Location X: -11.46 m\n",
    "Y: 2.85 m\n",
    "Z: 1.43m\n",
    "\n",
    "Rotation X: 60.4 deg\n",
    "Y: 5.1 deg\n",
    "Z: 84.6 deg\n",
    "\n",
    "Scale X: 1\n",
    "Y: 1\n",
    "Z: 1"
   ]
  },
  {
   "cell_type": "code",
   "execution_count": 21,
   "metadata": {},
   "outputs": [],
   "source": [
    "rect_mesh = o3d.io.read_triangle_mesh(\"rect_mesh_aligned.stl\")\n",
    "rect_mesh.compute_vertex_normals()\n",
    "coord_frame = o3d.geometry.TriangleMesh.create_coordinate_frame(size=100, origin=[0, 0, 0])\n",
    "\n",
    "o3d.visualization.draw_geometries([rect_mesh, coord_frame])\n",
    "\n",
    "def_mesh = o3d.io.read_triangle_mesh(\"def_mesh_aligned.stl\")\n",
    "def_mesh.compute_vertex_normals()\n",
    "coord_frame = o3d.geometry.TriangleMesh.create_coordinate_frame(size=100, origin=[0, 0, 0])\n",
    "\n",
    "o3d.visualization.draw_geometries([def_mesh, coord_frame])"
   ]
  },
  {
   "cell_type": "code",
   "execution_count": 22,
   "metadata": {},
   "outputs": [
    {
     "name": "stdout",
     "output_type": "stream",
     "text": [
      "PointCloud with 484 points.\n",
      "PointCloud with 500 points.\n",
      "PointCloud with 500 points.\n"
     ]
    }
   ],
   "source": [
    "rect_cloud = rect_mesh.sample_points_uniformly(500)\n",
    "def_cloud = def_mesh.sample_points_uniformly(500)\n",
    "\n",
    "downs_def = def_cloud.voxel_down_sample(voxel_size=5)\n",
    "o3d.visualization.draw_geometries([def_cloud])\n",
    "print(downs_def)\n",
    "print(rect_cloud)\n",
    "print(def_cloud)"
   ]
  },
  {
   "cell_type": "code",
   "execution_count": 23,
   "metadata": {},
   "outputs": [],
   "source": [
    "#https://github.com/isl-org/Open3D/pull/1884/commits/d739cc20e4f54798aacca5f32b36f5a3066531a6\n",
    "dists = rect_cloud.compute_point_cloud_distance(def_cloud)\n",
    "dists = np.asarray(dists)\n",
    "ind = np.where(dists > 0.01)[0]\n",
    "res = rect_cloud.select_by_index(ind)\n",
    "o3d.visualization.draw_geometries([res])"
   ]
  },
  {
   "cell_type": "markdown",
   "metadata": {},
   "source": [
    "Not just the wane - try scaling??"
   ]
  },
  {
   "cell_type": "code",
   "execution_count": 24,
   "metadata": {},
   "outputs": [],
   "source": [
    "rect_mesh_c = copy.deepcopy(rect_mesh)\n",
    "rect_mesh_c.scale(0.95, center=rect_mesh_c.get_center())\n",
    "\n",
    "o3d.visualization.draw_geometries([rect_mesh_c, def_mesh])"
   ]
  },
  {
   "cell_type": "code",
   "execution_count": 25,
   "metadata": {},
   "outputs": [],
   "source": [
    "rect_cloud = rect_mesh.sample_points_uniformly(1000)\n",
    "def_cloud = def_mesh.sample_points_uniformly(1000)\n",
    "\n",
    "dists = rect_cloud.compute_point_cloud_distance(def_cloud)\n",
    "dists = np.asarray(dists)\n",
    "ind = np.where(dists <  10)[0]\n",
    "res = rect_cloud.select_by_index(ind)\n",
    "o3d.visualization.draw_geometries([res, def_mesh])"
   ]
  },
  {
   "cell_type": "code",
   "execution_count": 26,
   "metadata": {},
   "outputs": [
    {
     "name": "stdout",
     "output_type": "stream",
     "text": [
      "[Open3D DEBUG] Precompute neighbors.\n",
      "[Open3D DEBUG] Done Precompute neighbors.\n",
      "[Open3D DEBUG] Compute Clusters\n",
      "[Open3D DEBUG] Done Compute Clusters: 40\n",
      "point cloud has 40 clusters\n",
      "Precompute neighbors.[========================================] 100%\n",
      "Clustering[=============>                          ] 32%\r"
     ]
    }
   ],
   "source": [
    "\n",
    "with o3d.utility.VerbosityContextManager(\n",
    "        o3d.utility.VerbosityLevel.Debug) as cm:\n",
    "    labels = np.array(\n",
    "        res.cluster_dbscan(eps=10, min_points=5, print_progress=True))\n",
    "\n",
    "max_label = labels.max()\n",
    "print(f\"point cloud has {max_label + 1} clusters\")\n",
    "colors = plt.get_cmap(\"tab20\")(labels / (max_label if max_label > 0 else 1))\n",
    "colors[labels < 0] = 0\n",
    "res.colors = o3d.utility.Vector3dVector(colors[:, :3])\n",
    "o3d.visualization.draw_geometries([res])"
   ]
  },
  {
   "cell_type": "code",
   "execution_count": 27,
   "metadata": {},
   "outputs": [],
   "source": [
    "rect_mesh = o3d.io.read_triangle_mesh(\"rect_mesh_aligned.stl\")\n",
    "rect_mesh = o3d.t.geometry.TriangleMesh.from_legacy(rect_mesh)\n",
    "\n",
    "def_mesh = o3d.io.read_triangle_mesh(\"def_mesh_aligned.stl\")\n",
    "def_mesh = o3d.t.geometry.TriangleMesh.from_legacy(def_mesh)\n",
    "\n",
    "res = rect_mesh.boolean_difference(def_mesh)\n",
    "res.compute_vertex_normals()\n",
    "o3d.visualization.draw([res])"
   ]
  },
  {
   "cell_type": "markdown",
   "metadata": {},
   "source": [
    "Don't understand hwo this is not a function, there is literally a test for it in the github repo. can do this in blender!!!! http://www.open3d.org/docs/release/python_api/open3d.t.geometry.TriangleMesh.html#open3d.t.geometry.TriangleMesh.boolean_difference"
   ]
  },
  {
   "cell_type": "markdown",
   "metadata": {},
   "source": [
    "To do this in blender, click the defective board, then hold shift and click the perfect board. go to modifier properties (wrench icon), then click add modifier. click boolean, then choose difference. Choose the object that you will be subtracting with, and voila!"
   ]
  },
  {
   "cell_type": "code",
   "execution_count": null,
   "metadata": {},
   "outputs": [],
   "source": [
    "bool_diff = o3d.io.read_triangle_mesh(\"boolean_diff.stl\")\n",
    "bool_diff.compute_vertex_normals()\n",
    "o3d.visualization.draw_geometries([bool_diff])\n",
    "def_cloud = def_mesh.sample_points_uniformly(500)\n",
    "\n"
   ]
  },
  {
   "cell_type": "code",
   "execution_count": null,
   "metadata": {},
   "outputs": [
    {
     "name": "stdout",
     "output_type": "stream",
     "text": [
      "Input mesh has 3571409 vertices and 1197190 triangles\n",
      "voxel_size = 1.524850e+01\n",
      "Simplified mesh has 612 vertices and 2285 triangles\n",
      "voxel_size = 3.049700e+01\n",
      "Simplified mesh has 136 vertices and 567 triangles\n"
     ]
    }
   ],
   "source": [
    "mesh_in = o3d.io.read_triangle_mesh(\"boolean_diff.stl\")\n",
    "mesh_in.compute_vertex_normals()\n",
    "\n",
    "print(\n",
    "    f'Input mesh has {len(mesh_in.vertices)} vertices and {len(mesh_in.triangles)} triangles'\n",
    ")\n",
    "o3d.visualization.draw_geometries([mesh_in])\n",
    "\n",
    "voxel_size = max(mesh_in.get_max_bound() - mesh_in.get_min_bound()) / 32\n",
    "print(f'voxel_size = {voxel_size:e}')\n",
    "mesh_smp = mesh_in.simplify_vertex_clustering(\n",
    "    voxel_size=voxel_size,\n",
    "    contraction=o3d.geometry.SimplificationContraction.Average)\n",
    "print(\n",
    "    f'Simplified mesh has {len(mesh_smp.vertices)} vertices and {len(mesh_smp.triangles)} triangles'\n",
    ")\n",
    "o3d.visualization.draw_geometries([mesh_smp])\n",
    "\n",
    "voxel_size = max(mesh_in.get_max_bound() - mesh_in.get_min_bound()) / 16\n",
    "print(f'voxel_size = {voxel_size:e}')\n",
    "mesh_smp = mesh_in.simplify_vertex_clustering(\n",
    "    voxel_size=voxel_size,\n",
    "    contraction=o3d.geometry.SimplificationContraction.Average)\n",
    "print(\n",
    "    f'Simplified mesh has {len(mesh_smp.vertices)} vertices and {len(mesh_smp.triangles)} triangles'\n",
    ")\n",
    "o3d.visualization.draw_geometries([mesh_smp])"
   ]
  }
 ],
 "metadata": {
  "kernelspec": {
   "display_name": ".venv",
   "language": "python",
   "name": "python3"
  },
  "language_info": {
   "codemirror_mode": {
    "name": "ipython",
    "version": 3
   },
   "file_extension": ".py",
   "mimetype": "text/x-python",
   "name": "python",
   "nbconvert_exporter": "python",
   "pygments_lexer": "ipython3",
   "version": "3.10.12"
  },
  "orig_nbformat": 4
 },
 "nbformat": 4,
 "nbformat_minor": 2
}
