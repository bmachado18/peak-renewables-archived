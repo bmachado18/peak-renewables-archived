{
  "cells": [
    {
      "cell_type": "code",
      "execution_count": null,
      "metadata": {
        "colab": {
          "background_save": true,
          "base_uri": "https://localhost:8080/"
        },
        "id": "wylf5e436lEK",
        "outputId": "992e39e2-3022-4552-941b-13eac516ed46"
      },
      "outputs": [
        {
          "name": "stdout",
          "output_type": "stream",
          "text": [
            "Cloning into 'yolov5'...\n",
            "remote: Enumerating objects: 16008, done.\u001b[K\n",
            "remote: Total 16008 (delta 0), reused 0 (delta 0), pack-reused 16008\u001b[K\n",
            "Receiving objects: 100% (16008/16008), 14.56 MiB | 25.11 MiB/s, done.\n",
            "Resolving deltas: 100% (11011/11011), done.\n",
            "/content/yolov5/yolov5\n",
            "Requirement already satisfied: gitpython>=3.1.30 in /usr/local/lib/python3.10/dist-packages (from -r requirements.txt (line 5)) (3.1.31)\n",
            "Requirement already satisfied: matplotlib>=3.3 in /usr/local/lib/python3.10/dist-packages (from -r requirements.txt (line 6)) (3.7.1)\n",
            "Requirement already satisfied: numpy>=1.18.5 in /usr/local/lib/python3.10/dist-packages (from -r requirements.txt (line 7)) (1.25.0)\n",
            "Requirement already satisfied: opencv-python>=4.1.1 in /usr/local/lib/python3.10/dist-packages (from -r requirements.txt (line 8)) (4.7.0.72)\n",
            "Requirement already satisfied: Pillow>=7.1.2 in /usr/local/lib/python3.10/dist-packages (from -r requirements.txt (line 9)) (9.5.0)\n",
            "Requirement already satisfied: psutil in /usr/local/lib/python3.10/dist-packages (from -r requirements.txt (line 10)) (5.9.5)\n",
            "Requirement already satisfied: PyYAML>=5.3.1 in /usr/local/lib/python3.10/dist-packages (from -r requirements.txt (line 11)) (6.0)\n",
            "Requirement already satisfied: requests>=2.23.0 in /usr/local/lib/python3.10/dist-packages (from -r requirements.txt (line 12)) (2.31.0)\n",
            "Requirement already satisfied: scipy>=1.4.1 in /usr/local/lib/python3.10/dist-packages (from -r requirements.txt (line 13)) (1.11.1)\n",
            "\u001b[31mERROR: Operation cancelled by user\u001b[0m\u001b[31m\n",
            "\u001b[0m"
          ]
        }
      ],
      "source": [
        "!git clone https://github.com/ultralytics/yolov5  # clone\n",
        "%cd yolov5\n",
        "%pip install -U -r requirements.txt   # install"
      ]
    },
    {
      "cell_type": "code",
      "execution_count": null,
      "metadata": {
        "id": "T-LxUg1EVLPl"
      },
      "outputs": [],
      "source": [
        "from google.colab import drive\n",
        "drive.mount('/content/drive')"
      ]
    },
    {
      "cell_type": "code",
      "execution_count": null,
      "metadata": {
        "id": "4hmc7k25atZz"
      },
      "outputs": [],
      "source": [
        "%cd ..\n",
        "%ls"
      ]
    },
    {
      "cell_type": "code",
      "execution_count": null,
      "metadata": {
        "id": "8_PzQECxjHMU"
      },
      "outputs": [],
      "source": [
        "%ls"
      ]
    },
    {
      "cell_type": "code",
      "execution_count": null,
      "metadata": {
        "id": "yZbupn5gbWRb"
      },
      "outputs": [],
      "source": [
        "%mkdir datasets\n",
        "%mkdir datasets/wood_defects_1\n",
        "%mkdir datasets/wood_defects_1/images\n",
        "%mkdir datasets/wood_defects_1/images/test\n",
        "%mkdir datasets/wood_defects_1/images/train\n",
        "\n",
        "%mkdir datasets/wood_defects_1/labels\n",
        "%mkdir datasets/wood_defects_1/labels/test\n",
        "%mkdir datasets/wood_defects_1/labels/train"
      ]
    },
    {
      "cell_type": "code",
      "execution_count": null,
      "metadata": {
        "id": "roa9RwNRkee7"
      },
      "outputs": [],
      "source": [
        "%ls"
      ]
    },
    {
      "cell_type": "code",
      "execution_count": null,
      "metadata": {
        "id": "gV1mPJbhcqs0"
      },
      "outputs": [],
      "source": [
        "# importing the data from kaggle\n",
        "! pip install kaggle\n",
        "! mkdir ~/.kaggle\n",
        "! cp ./drive/MyDrive/yolov5/kaggle.json ~/.kaggle/\n",
        "\n"
      ]
    },
    {
      "cell_type": "code",
      "execution_count": null,
      "metadata": {
        "id": "0T2LKnFIlezc"
      },
      "outputs": [],
      "source": [
        "! kaggle datasets download pjames266/brents-wood-1\n",
        "! kaggle datasets download pjames266/brents-wood-2\n",
        "#! kaggle datasets download pjames266/brents-wood-3\n",
        "#! kaggle datasets download pjames266/brents-wood-4"
      ]
    },
    {
      "cell_type": "code",
      "execution_count": null,
      "metadata": {
        "id": "1x3dNT27wTsE"
      },
      "outputs": [],
      "source": [
        "%ls"
      ]
    },
    {
      "cell_type": "code",
      "execution_count": null,
      "metadata": {
        "id": "PRzP2ktmmmPU"
      },
      "outputs": [],
      "source": [
        "!unzip ./brents-wood-1.zip -d ./datasets/wood_defects_1/images\n",
        "!unzip ./brents-wood-2.zip -d ./datasets/wood_defects_1/images\n",
        "#!unzip ./brents-wood-3.zip -d ./datasets/wood_defects_1/images\n",
        "#!unzip ./brents-wood-4.zip -d ./datasets/wood_defects_1/images"
      ]
    },
    {
      "cell_type": "code",
      "execution_count": null,
      "metadata": {
        "id": "LdmBvxc2iEze"
      },
      "outputs": [],
      "source": [
        "! unzip ./drive/MyDrive/yolov5/Bouding_Boxes.zip -d ./datasets/wood_defects_1/labels"
      ]
    },
    {
      "cell_type": "code",
      "execution_count": null,
      "metadata": {
        "id": "P0ECxzHhtH1j"
      },
      "outputs": [],
      "source": [
        "import glob\n",
        "import random\n",
        "import os\n",
        "import re\n",
        "\n",
        "\n",
        "%ls\n",
        "\n",
        "img_path = './datasets/wood_defects_1/images/'\n",
        "img_files = glob.iglob(img_path + '*.bmp')\n",
        "label_path = r'datasets/wood_defects_1/labels/Bouding Boxes/'\n",
        "label_files = glob.iglob(label_path + '*.txt')\n",
        "\n",
        "#remove _anno\n",
        "for i, label in enumerate(label_files):\n",
        "  os.rename(label, re.sub(\"_anno\", '', label))"
      ]
    },
    {
      "cell_type": "code",
      "execution_count": null,
      "metadata": {
        "id": "8fUA5BRI4WF7"
      },
      "outputs": [],
      "source": [
        "#delete all non-existing img labels\n",
        "label_files = glob.iglob(label_path + '*.txt')\n",
        "\n",
        "for q,label in enumerate(label_files):\n",
        "  img_name = os.path.basename(label).split('.')[0]\n",
        "\n",
        "  if not os.path.exists(img_path + img_name + '.bmp'):\n",
        "    os.remove(label)"
      ]
    },
    {
      "cell_type": "code",
      "execution_count": null,
      "metadata": {
        "id": "6TzqVd8o3iWw"
      },
      "outputs": [],
      "source": [
        "#refactor lines of all labels, where each row is class x_center y_center width height\n",
        "label_files = glob.iglob(label_path + '*.txt')\n",
        "\n",
        "class_index = {\"Live_Knot\": \"0\", \"Dead_Knot\": \"1\", \"knot_with_crack\": \"2\", \"resin\": \"3\", \"Knot_missing\": \"4\", \"Crack\": \"5\",\n",
        "               \"Quartzity\": \"6\", \"Marrow\": \"7\"}\n",
        "label_files = glob.iglob(label_path + '*.txt')\n",
        "for label in label_files:\n",
        "  img_name = os.path.basename(label).split('.')[0]\n",
        "  with open(label, 'r') as f:\n",
        "    lines = f.readlines()\n",
        "    for line in lines:\n",
        "      items = line.split(\"\\t\")\n",
        "\n",
        "      items[0] = class_index[items[0]]\n",
        "      items[1] = re.sub(',', '.', items[1])\n",
        "      items[2] = re.sub(',', '.', items[2])\n",
        "      items[3] = re.sub(',', '.', items[3])\n",
        "      items[4] = re.sub(',', '.', items[4])\n",
        "      left,top,bottom,right = float(items[1]),float(items[2]),float(items[3]),float(items[4][:-2])\n",
        "      width = abs(right - left)\n",
        "      height = abs(top - bottom)\n",
        "      x_center = (left + right)/2\n",
        "      y_center = (top + bottom)/2\n",
        "      new_line = \"\\t\".join([items[0], str(x_center), str(y_center), str(width), str(height) + \"\\n\"])\n",
        "  with open(label, 'w') as f:\n",
        "      f.writelines(new_line)\n"
      ]
    },
    {
      "cell_type": "code",
      "execution_count": null,
      "metadata": {
        "id": "aBTudmWN9T77"
      },
      "outputs": [],
      "source": [
        "#split the image/txt into train/test dataset\n",
        "import math\n",
        "import shutil\n",
        "\n",
        "label_files = glob.iglob(label_path + '*.txt')\n",
        "print(label_path)\n",
        "#label_files = random.shuffle(label_files)\n",
        "length = sum(1 for _ in label_files)\n",
        "print(length)\n",
        "\n",
        "training_n = math.floor(0.8*length) #80% training\n",
        "print(training_n)\n",
        "\n",
        "test_n = length - training_n\n",
        "\n",
        "label_files = glob.iglob(label_path + '*.txt')\n",
        "\n",
        "#loop through all labels\n",
        "for i,label in enumerate(label_files):\n",
        "\n",
        "  fname = os.path.basename(label)\n",
        "  img_name = fname.split('.')[0] + \".bmp\"\n",
        "\n",
        "  label_training_path = 'datasets/wood_defects_1/labels/train/' + fname\n",
        "  label_test_path = 'datasets/wood_defects_1/labels/test/' + fname\n",
        "\n",
        "  img_path = 'datasets/wood_defects_1/images/' + img_name\n",
        "  img_training_path = 'datasets/wood_defects_1/images/train/' + img_name\n",
        "  img_test_path = 'datasets/wood_defects_1/images/test/' + img_name\n",
        "\n",
        "  #for training data\n",
        "  if i <= training_n:\n",
        "    #print(label)\n",
        "    #print(label_training_path)\n",
        "    shutil.move(label, label_training_path)\n",
        "\n",
        "    #print(img_path)\n",
        "    #print(img_training_path)\n",
        "    shutil.move(img_path,img_training_path)\n",
        "  else:\n",
        "    shutil.move(label,label_test_path)\n",
        "    shutil.move(img_path, img_test_path)\n"
      ]
    },
    {
      "cell_type": "code",
      "execution_count": null,
      "metadata": {
        "id": "AZZ81Ucbsbpb"
      },
      "outputs": [],
      "source": [
        "%cp ./drive/MyDrive/yolov5/wood_defects_1.yaml ./yolov5/data/\n",
        "%cp ./drive/MyDrive/yolov5/yolov5s.pt ./yolov5/ #not automatically downloading weights"
      ]
    },
    {
      "cell_type": "code",
      "execution_count": null,
      "metadata": {
        "id": "BTIavse8ELSz"
      },
      "outputs": [],
      "source": [
        "%cd ./yolov5"
      ]
    },
    {
      "cell_type": "code",
      "execution_count": null,
      "metadata": {
        "id": "ru3fPtw_1NmP"
      },
      "outputs": [],
      "source": [
        "%%python train.py --img 1280 --epochs 50 --data wood_defects_1.yaml --weights yolov5s.pt"
      ]
    }
  ],
  "metadata": {
    "accelerator": "TPU",
    "colab": {
      "provenance": []
    },
    "kernelspec": {
      "display_name": "Python 3",
      "name": "python3"
    },
    "language_info": {
      "name": "python"
    }
  },
  "nbformat": 4,
  "nbformat_minor": 0
}